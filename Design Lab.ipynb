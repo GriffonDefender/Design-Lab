{
 "cells": [
  {
   "cell_type": "markdown",
   "metadata": {},
   "source": [
    "\n",
    "###### Acceleration of Jupiter due to the Sun's gravity\n",
    " $$a_J = \\frac{Gm_{\\odot}}{r^{2}} = \\frac{(6.67\\times10^{-11})(1.989\\times10^{30})}{(7.785\\times10^{11})} = 2.18899\\times10^{-4}m/s^2$$\n",
    "###### Oribtal Velocity of Jupiter around the Sun\n",
    "$$ v_{J.tan}^2 = a\\times r = (2.18899\\times 10^{-4})(7.785\\times 10^{11})=(13054.23m/s)^2$$\n",
    "$$v_{J.tan} = 13054.23 m/s$$ \n",
    "###### Escape Velocity\n",
    "$$\\frac{1}{2}mv^2 = \\frac{GMm}{r}$$\n",
    "$$v_{esc} = \\sqrt{\\frac{2GM}{r}} $$\n",
    "$$v_{J.esc} = \n",
    "\n"
   ]
  },
  {
   "cell_type": "markdown",
   "metadata": {},
   "source": [
    "##### Model\n",
    "* In order to model the motion of Jupiter and our colony, we will;\n",
    "    * calculate the net force on the body (thet being Jupiter or the colony) using the universal gravitation equation\n",
    "    * use the force and momentum euqaitons to calculate the new momentum after a small time interval \n",
    "    * use this new momentum and thus velocity information to determine the new position of the body\n",
    "    \n",
    "* using vPython we will include in out code three objects (the Sun, Jupiter and the colony) with attributes: mass, net force, velocity, "
   ]
  },
  {
   "cell_type": "code",
   "execution_count": 8,
   "metadata": {
    "collapsed": true
   },
   "outputs": [],
   "source": [
    "# defining variables\n",
    "G = 6.67408*10**(-11)\n",
    "r_oj = 778.5*10**(9) #radius of Jupiter's orbit around the sun  \n"
   ]
  },
  {
   "cell_type": "code",
   "execution_count": null,
   "metadata": {
    "collapsed": true
   },
   "outputs": [],
   "source": []
  }
 ],
 "metadata": {
  "anaconda-cloud": {},
  "kernelspec": {
   "display_name": "VPython",
   "language": "python",
   "name": "vpython"
  },
  "language_info": {
   "codemirror_mode": {
    "name": "ipython",
    "version": 3
   },
   "file_extension": ".py",
   "mimetype": "text/x-python",
   "name": "python",
   "nbconvert_exporter": "python",
   "pygments_lexer": "ipython3",
   "version": "3.5.2"
  }
 },
 "nbformat": 4,
 "nbformat_minor": 0
}
